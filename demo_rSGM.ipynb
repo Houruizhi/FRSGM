{
 "cells": [
  {
   "cell_type": "code",
   "execution_count": null,
   "metadata": {},
   "outputs": [],
   "source": [
    "import os\n",
    "import time\n",
    "import cv2\n",
    "import torch\n",
    "import torch.nn as nn\n",
    "import torch.nn.functional as F\n",
    "import h5py\n",
    "import numpy as np\n",
    "import math\n",
    "import glob\n",
    "\n",
    "from src.fastmri.math import complex_abs, complex_mul, complex_conj\n",
    "from src.fastmri.transforms import to_tensor\n",
    "from src.fastmri.coil_combine import rss_complex, rss\n",
    "from src.fastmri.subsample import RandomMaskFunc\n",
    "from src.fastmri.fft import fft2c, ifft2c, fftshift, fft2\n",
    "\n",
    "from src.tvcs.tv_op import *\n",
    "from src.utils import *\n",
    "from src.metrics import psnr, ssim\n",
    "import matplotlib.pyplot as plt\n",
    "\n",
    "from scipy.io import loadmat,savemat\n",
    "\n",
    "os.environ[\"CUDA_DEVICE_ORDER\"] = \"PCI_BUS_ID\"\n",
    "os.environ[\"CUDA_VISIBLE_DEVICES\"] = \"3\""
   ]
  },
  {
   "cell_type": "code",
   "execution_count": null,
   "metadata": {},
   "outputs": [],
   "source": [
    "from src.models.condrefinenet_fourier import CondRefineNetDilated\n",
    "chp_path = './checkpoints/fastMRI_scorenet_F64_c1/net.pth'\n",
    "states = torch.load(chp_path)['weights']\n",
    "ch = 64\n",
    "scorenet = CondRefineNetDilated(2,2,ch).cuda()\n",
    "scorenet.load_state_dict(states)\n",
    "scorenet.eval();"
   ]
  },
  {
   "cell_type": "code",
   "execution_count": null,
   "metadata": {},
   "outputs": [],
   "source": [
    "from src.utils_IDPCNN import Denoisers\n",
    "chp_dir = './checkpoints/fastMRI_dncnn_c1_mse_F128/'\n",
    "cnn_denoisers = Denoisers(chp_dir,2,2,17,128,bias=True)"
   ]
  },
  {
   "cell_type": "code",
   "execution_count": null,
   "metadata": {},
   "outputs": [],
   "source": [
    "from src.fastmri.subsample import RandomMaskFunc\n",
    "mask_func = RandomMaskFunc(\n",
    "    center_fractions=[0.04],\n",
    "    accelerations=[8]\n",
    ")\n",
    "\n",
    "file_ = './data/file1000243_17.mat' # file_brain_AXT2_209_6001069_2.mat\n",
    "target_np = loadmat(file_)['target'].transpose(2,0,1)\n",
    "sense_map_espirit = loadmat(file_)['sense_map'].transpose(2,0,1)\n",
    "_,w,h = target_np.shape\n",
    "target_tensor, target_rss, sense_map_tensor  = process_MRI_data(target_np, sense_map_espirit)\n",
    "sense_map_tensor = sense_map_tensor.cuda().squeeze(0)\n",
    "\n",
    "print(file_, target_rss[20:60].std(), target_tensor.shape)"
   ]
  },
  {
   "cell_type": "code",
   "execution_count": null,
   "metadata": {
    "scrolled": true
   },
   "outputs": [],
   "source": [
    "crop_win = 320\n",
    "data_kspace = fft2c(target_tensor).cuda().squeeze(0)\n",
    "mask = mask_func(data_kspace.shape, 1234).cuda().byte()\n",
    "mask = mask.repeat(1,data_kspace.shape[-3],1,1)\n",
    "data_kspace = data_kspace * mask\n",
    "c,h,w,_ = data_kspace.shape\n",
    "plt.imshow(crop_image(target_rss, crop_win))\n",
    "PSNR, _, rec_im = compare_psnr_ssim_tensor(ifft2c(data_kspace), target_rss, crop_win, coil_dim=0)\n",
    "cv2.imwrite('target.png', 255*crop_image(target_rss, crop_win))\n",
    "cv2.imwrite(f'./zf.png', 255*rec_im)"
   ]
  },
  {
   "cell_type": "code",
   "execution_count": null,
   "metadata": {},
   "outputs": [],
   "source": [
    "reg_cnn=True\n",
    "reg_self=True\n",
    "reg_diffusion=True\n",
    "from src.utils_rSGM import RSGM\n",
    "recon_module = RSGM(\n",
    "    scorenet=scorenet,\n",
    "    cnn_denoisers=cnn_denoisers,\n",
    "    reg_diffusion=reg_diffusion,\n",
    "    reg_cnn=reg_cnn,\n",
    "    reg_similar=reg_self,\n",
    "    reg_kernel_size=7,\n",
    "    crop_win=320,\n",
    "    self_learn_K_iter=5,\n",
    "    K_step=1e-3,\n",
    "    lam=3e-4,\n",
    "    rho=3.3e-3,\n",
    "    gamma=1.06,\n",
    "    delta=1\n",
    ")"
   ]
  },
  {
   "cell_type": "code",
   "execution_count": null,
   "metadata": {
    "scrolled": true
   },
   "outputs": [],
   "source": [
    "torch.manual_seed(1234)\n",
    "rec_im, psnrs = recon_module(\n",
    "    data_kspace, \n",
    "    mask, \n",
    "    sense_map=sense_map_tensor,\n",
    "    target_rss=target_rss,\n",
    "    normlize_input=False,\n",
    "    max_iter=110,\n",
    "    K_gd_iter=5,\n",
    "    verbose=True)"
   ]
  },
  {
   "cell_type": "code",
   "execution_count": null,
   "metadata": {},
   "outputs": [],
   "source": [
    "PSNR, _, rec_im_ = compare_psnr_ssim_tensor(rec_im, target_rss, crop_win=320, coil_dim=0)\n",
    "print(PSNR)\n",
    "plt.imshow(rec_im_)"
   ]
  },
  {
   "cell_type": "code",
   "execution_count": null,
   "metadata": {},
   "outputs": [],
   "source": []
  }
 ],
 "metadata": {
  "kernelspec": {
   "display_name": "Python 3 (ipykernel)",
   "language": "python",
   "name": "python3"
  },
  "language_info": {
   "codemirror_mode": {
    "name": "ipython",
    "version": 3
   },
   "file_extension": ".py",
   "mimetype": "text/x-python",
   "name": "python",
   "nbconvert_exporter": "python",
   "pygments_lexer": "ipython3",
   "version": "3.10.9"
  }
 },
 "nbformat": 4,
 "nbformat_minor": 2
}
